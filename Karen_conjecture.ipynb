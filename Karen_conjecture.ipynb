{
 "cells": [
  {
   "cell_type": "markdown",
   "id": "4f4f2b8e",
   "metadata": {},
   "source": [
    "**Conjecture**:  There will be more unserved areas in bus lines than for the metro system (above ground trains) and subway (below ground trains)."
   ]
  },
  {
   "cell_type": "code",
   "execution_count": null,
   "id": "63b7a9cc",
   "metadata": {},
   "outputs": [
    {
     "ename": "ModuleNotFoundError",
     "evalue": "No module named 'gtfs_kit'",
     "output_type": "error",
     "traceback": [
      "\u001b[1;31m---------------------------------------------------------------------------\u001b[0m",
      "\u001b[1;31mModuleNotFoundError\u001b[0m                       Traceback (most recent call last)",
      "Cell \u001b[1;32mIn[7], line 2\u001b[0m\n\u001b[0;32m      1\u001b[0m \u001b[38;5;66;03m#Start with unserved areas\u001b[39;00m\n\u001b[1;32m----> 2\u001b[0m \u001b[38;5;28;01mimport\u001b[39;00m \u001b[38;5;21;01mgtfs_kit\u001b[39;00m\n\u001b[0;32m      3\u001b[0m help(gtfs_kit)\n",
      "\u001b[1;31mModuleNotFoundError\u001b[0m: No module named 'gtfs_kit'"
     ]
    }
   ],
   "source": [
    "#Start with unserved areas\n"
   ]
  }
 ],
 "metadata": {
  "kernelspec": {
   "display_name": "base",
   "language": "python",
   "name": "python3"
  },
  "language_info": {
   "codemirror_mode": {
    "name": "ipython",
    "version": 3
   },
   "file_extension": ".py",
   "mimetype": "text/x-python",
   "name": "python",
   "nbconvert_exporter": "python",
   "pygments_lexer": "ipython3",
   "version": "3.12.3"
  }
 },
 "nbformat": 4,
 "nbformat_minor": 5
}
